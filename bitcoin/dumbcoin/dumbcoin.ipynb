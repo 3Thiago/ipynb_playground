{
 "cells": [
  {
   "cell_type": "markdown",
   "metadata": {},
   "source": [
    "# Dumbcoin - An educational python implementation of a bitcoin-like blockchain"
   ]
  },
  {
   "cell_type": "markdown",
   "metadata": {},
   "source": [
    "# Introduction <a name=\"introduction\"></a>"
   ]
  },
  {
   "cell_type": "markdown",
   "metadata": {},
   "source": [
    "This is an experimental notebook that implements most of the concepts of a bitcoin-like blockchain in python.\n",
    "It is **NOT secure** neither a real blockchain and you should **NOT** use this for anything else than educational purposes. \n",
    "\n",
    "Regardless of the financial benefits/drawbacks of bitcoin, the underlying technology is very interesting and the original paper is relatively easy to grasp. \n",
    "\n",
    "You might want to have a look at the [hacker news](https://news.ycombinator.com/item?id=15945490) discussion about this notebook."
   ]
  },
  {
   "cell_type": "markdown",
   "metadata": {},
   "source": [
    "## References\n",
    "\n",
    "I used the [original bitcoin](https://bitcoin.org/bitcoin.pdf) paper as reference as well as [Michael Nielsen's bitcoin explanation](http://www.michaelnielsen.org/ddi/how-the-bitcoin-protocol-actually-works/). The [bitcoin wiki](https://en.bitcoin.it/wiki/Main_Page) is a great technical resource as well.\n",
    "\n",
    "\n",
    "## Table of contents\n",
    "\n",
    "1. [Hash function and mining](#mining)\n",
    "2. [Difficulty](#difficulty)\n",
    "3. [A wallet](#wallet)\n",
    "4. [Transactions](#transactions)\n",
    "5. [Blocks](#block)\n",
    "6. [Attacks](#attacks)\n",
    "7. [Double spending](#double)\n",
    "8. [Differences with Bitcoin](#differences)"
   ]
  },
  {
   "cell_type": "code",
   "execution_count": 1,
   "metadata": {},
   "outputs": [],
   "source": [
    "# Requires\n",
    "# - pycryptodome (pycrypto for 3.6)\n",
    "# - numpy /scipy / matplotlib\n",
    "# - pandas"
   ]
  },
  {
   "cell_type": "code",
   "execution_count": 2,
   "metadata": {},
   "outputs": [],
   "source": [
    "import hashlib\n",
    "import random\n",
    "import string\n",
    "import json\n",
    "import binascii\n",
    "import numpy as np\n",
    "import pandas as pd\n",
    "import pylab as pl\n",
    "import logging\n",
    "%matplotlib inline"
   ]
  },
  {
   "cell_type": "markdown",
   "metadata": {},
   "source": [
    "# Hash function and mining <a name=\"mining\"></a>\n",
    "\n",
    "So we'll start a little backward and start with the miner implementation.\n",
    "For the example here, we'll use the SHA256 hash function because it's readily implemented in python. Note that bitcoin uses [two round of SHA256](https://en.bitcoin.it/wiki/Hashcash) instead of one.\n",
    "\n",
    "So our hash function will turn a string of arbitrary length into a fixed-length string of 64 hexadecimal characters. For example :"
   ]
  },
  {
   "cell_type": "code",
   "execution_count": 3,
   "metadata": {},
   "outputs": [],
   "source": [
    "def sha256(message):\n",
    "    return hashlib.sha256(message.encode('ascii')).hexdigest()"
   ]
  },
  {
   "cell_type": "markdown",
   "metadata": {},
   "source": [
    "Now, the process of *mining* is : given an arbitrary string $x$, find a nonce such that $hash(x + nonce)$ produces a hash starting with a number of leading ones.\n",
    "\n",
    "For example here, we'll \"mine\" a nonce such that the hash of our message (\"hello bitcoin\") when concatenated with our nonce will have at least 2 leading ones."
   ]
  },
  {
   "cell_type": "code",
   "execution_count": 4,
   "metadata": {},
   "outputs": [
    {
     "name": "stdout",
     "output_type": "stream",
     "text": [
      "Found nonce = 32\n",
      "112c38d2fdb6ddaf32f371a390307ccc779cd92443b42c4b5c58fa548f63ed83\n"
     ]
    }
   ],
   "source": [
    "message = 'hello bitcoin'\n",
    "for nonce in range(1000):\n",
    "    digest = sha256(message + str(nonce))\n",
    "    if digest.startswith('11'):\n",
    "        print('Found nonce = %d' % nonce)\n",
    "        break\n",
    "print(sha256(message + str(nonce)))"
   ]
  },
  {
   "cell_type": "markdown",
   "metadata": {},
   "source": [
    "The more you increase the number of leading ones you require, the harder it becomes (on average) to find a nonce. In bitcoin, this is called the mining difficulty. Note that bitcoin doesn't require a number of leading digits, but instead requires the hash to be below a certain value. But it's the same idea.\n",
    "\n",
    "So let's define two functions that we'll reuse later : one to hash a string and one to mine a nonce for a given string."
   ]
  },
  {
   "cell_type": "code",
   "execution_count": 5,
   "metadata": {},
   "outputs": [],
   "source": [
    "def dumb_hash(message):\n",
    "    \"\"\"\n",
    "    Returns an hexadecimal hash\n",
    "    \"\"\"\n",
    "    return sha256(message)\n",
    "\n",
    "\n",
    "def mine(message, difficulty=1):\n",
    "    \"\"\"\n",
    "    Given an input string, will return a nonce such that\n",
    "    hash(string + nonce) starts with `difficulty` ones\n",
    "    \n",
    "    Returns: (nonce, niters)\n",
    "        nonce: The found nonce\n",
    "        niters: The number of iterations required to find the nonce\n",
    "    \"\"\"\n",
    "    assert difficulty >= 1, \"Difficulty of 0 is not possible\"\n",
    "    i = 0\n",
    "    prefix = '1' * difficulty\n",
    "    while True:\n",
    "        nonce = str(i)\n",
    "        digest = dumb_hash(message + nonce)\n",
    "        if digest.startswith(prefix):\n",
    "            return nonce, i\n",
    "        i += 1"
   ]
  },
  {
   "cell_type": "markdown",
   "metadata": {},
   "source": [
    "With that in place, we can mine nonce of varied difficulty :"
   ]
  },
  {
   "cell_type": "code",
   "execution_count": 6,
   "metadata": {},
   "outputs": [
    {
     "name": "stdout",
     "output_type": "stream",
     "text": [
      "Took 23 iterations\n",
      "Took 2272 iterations\n"
     ]
    }
   ],
   "source": [
    "nonce, niters = mine('42', difficulty=1)\n",
    "print('Took %d iterations' % niters)\n",
    "\n",
    "nonce, niters = mine('42', difficulty=3)\n",
    "print('Took %d iterations' % niters)"
   ]
  },
  {
   "cell_type": "markdown",
   "metadata": {},
   "source": [
    "As you can see in this example, the number of iterations required for a difficulty of 3 is much larger than for a difficulty of 1. Note though that you could get lucky and have a string where the first nonce (0 in our case) would yield the solution. So the difficulty controls the *average* number of tries. We can do a nice plot of that"
   ]
  },
  {
   "cell_type": "markdown",
   "metadata": {},
   "source": [
    "## Plotting difficulty <a name=\"difficulty\"></a>"
   ]
  },
  {
   "cell_type": "markdown",
   "metadata": {},
   "source": [
    "For each difficulty level, we'll mine a nonce for a variety of input strings (we'll use 50 in this example). We'll record the average number of iterations required at each difficulty level."
   ]
  },
  {
   "cell_type": "code",
   "execution_count": 7,
   "metadata": {},
   "outputs": [],
   "source": [
    "def random_string(length=10):\n",
    "    return ''.join(random.choice(string.ascii_uppercase + string.digits) for _ in range(length))\n",
    "\n",
    "strings = [random_string() for i in range(50)]"
   ]
  },
  {
   "cell_type": "code",
   "execution_count": 8,
   "metadata": {},
   "outputs": [],
   "source": [
    "levels = range(1, 5)\n",
    "# An array of results with a row for each difficulty and a column for each test string\n",
    "results = pd.DataFrame(index=strings, columns=levels, dtype=np.int)\n",
    "results.fillna(value=0)\n",
    "\n",
    "#results = np.zeros((N_LEVELS, len(strings)), dtype=np.int)\n",
    "for level in levels:\n",
    "    for s in strings:\n",
    "        _, niters = mine(s, difficulty=level)\n",
    "        results[level][s] = niters"
   ]
  },
  {
   "cell_type": "code",
   "execution_count": 9,
   "metadata": {},
   "outputs": [
    {
     "data": {
      "text/html": [
       "<div>\n",
       "<style scoped>\n",
       "    .dataframe tbody tr th:only-of-type {\n",
       "        vertical-align: middle;\n",
       "    }\n",
       "\n",
       "    .dataframe tbody tr th {\n",
       "        vertical-align: top;\n",
       "    }\n",
       "\n",
       "    .dataframe thead th {\n",
       "        text-align: right;\n",
       "    }\n",
       "</style>\n",
       "<table border=\"1\" class=\"dataframe\">\n",
       "  <thead>\n",
       "    <tr style=\"text-align: right;\">\n",
       "      <th></th>\n",
       "      <th>1</th>\n",
       "      <th>2</th>\n",
       "      <th>3</th>\n",
       "      <th>4</th>\n",
       "    </tr>\n",
       "  </thead>\n",
       "  <tbody>\n",
       "    <tr>\n",
       "      <th>I5UCPJMAAW</th>\n",
       "      <td>34</td>\n",
       "      <td>275</td>\n",
       "      <td>3190</td>\n",
       "      <td>93514</td>\n",
       "    </tr>\n",
       "    <tr>\n",
       "      <th>0CAV8WG1BP</th>\n",
       "      <td>4</td>\n",
       "      <td>22</td>\n",
       "      <td>15776</td>\n",
       "      <td>168961</td>\n",
       "    </tr>\n",
       "    <tr>\n",
       "      <th>N3UWW8D3PA</th>\n",
       "      <td>27</td>\n",
       "      <td>354</td>\n",
       "      <td>4812</td>\n",
       "      <td>4812</td>\n",
       "    </tr>\n",
       "    <tr>\n",
       "      <th>YSNFOPLRET</th>\n",
       "      <td>27</td>\n",
       "      <td>516</td>\n",
       "      <td>3729</td>\n",
       "      <td>97729</td>\n",
       "    </tr>\n",
       "    <tr>\n",
       "      <th>KK7CAKTB59</th>\n",
       "      <td>14</td>\n",
       "      <td>205</td>\n",
       "      <td>837</td>\n",
       "      <td>279974</td>\n",
       "    </tr>\n",
       "  </tbody>\n",
       "</table>\n",
       "</div>"
      ],
      "text/plain": [
       "             1    2      3       4\n",
       "I5UCPJMAAW  34  275   3190   93514\n",
       "0CAV8WG1BP   4   22  15776  168961\n",
       "N3UWW8D3PA  27  354   4812    4812\n",
       "YSNFOPLRET  27  516   3729   97729\n",
       "KK7CAKTB59  14  205    837  279974"
      ]
     },
     "execution_count": 9,
     "metadata": {},
     "output_type": "execute_result"
    }
   ],
   "source": [
    "results.iloc[:5]"
   ]
  },
  {
   "cell_type": "code",
   "execution_count": 10,
   "metadata": {},
   "outputs": [
    {
     "data": {
      "text/plain": [
       "Text(0,0.5,'Iterations')"
      ]
     },
     "execution_count": 10,
     "metadata": {},
     "output_type": "execute_result"
    },
    {
     "data": {
      "image/png": "[encoded data removed]",
      "text/plain": [
       "<matplotlib.figure.Figure at 0x7f3180935eb8>"
      ]
     },
     "metadata": {},
     "output_type": "display_data"
    }
   ],
   "source": [
    "pl.figure(figsize=(10, 5))\n",
    "ax = pl.subplot(111)\n",
    "ax.set_title('Number of iterations to mine a nonce for various difficulty')\n",
    "results.plot.box(showfliers=False, ax=ax)\n",
    "ax.set_xlabel('Difficulty')\n",
    "ax.set_ylabel('Iterations')"
   ]
  },
  {
   "cell_type": "markdown",
   "metadata": {},
   "source": [
    "# A wallet <a name=\"wallet\"></a>"
   ]
  },
  {
   "cell_type": "markdown",
   "metadata": {},
   "source": [
    "In bitcoin a wallet is a private/public key pair. If you don't know what public/private key is, you should probably read about [RSA](https://en.wikipedia.org/wiki/RSA_%28cryptosystem%29).\n",
    "\n",
    "The public key is used to receive transactions and the private key is used to spend money. By signing a transaction with our private key, anybody else can verify the signature using our public key.\n",
    "\n",
    "Note that in bitcoin, the wallet is a little bit more complicated. A wallet is a set of multiple private/public key pairs, and an address is not directly the public key. This ensures better privacy and security, but for dumbcoin, we'll use a single key and use the public key as the address."
   ]
  },
  {
   "cell_type": "code",
   "execution_count": 11,
   "metadata": {},
   "outputs": [],
   "source": [
    "import Crypto\n",
    "import Crypto.Random\n",
    "from Crypto.Hash import SHA\n",
    "from Crypto.PublicKey import RSA\n",
    "from Crypto.Signature import PKCS1_v1_5\n",
    "\n",
    "\n",
    "class Wallet(object):\n",
    "    \"\"\"\n",
    "    A wallet is a private/public key pair\n",
    "    \"\"\"\n",
    "    def __init__(self):\n",
    "        random_gen = Crypto.Random.new().read\n",
    "        self._private_key = RSA.generate(1024, random_gen)\n",
    "        self._public_key = self._private_key.publickey()\n",
    "        self._signer = PKCS1_v1_5.new(self._private_key)\n",
    "        \n",
    "    @property\n",
    "    def address(self):\n",
    "        \"\"\"We take a shortcut and say address is public key\"\"\"\n",
    "        return binascii.hexlify(self._public_key.exportKey(format='DER')).decode('ascii')\n",
    "    \n",
    "    def sign(self, message):\n",
    "        \"\"\"\n",
    "        Sign a message with this wallet\n",
    "        \"\"\"\n",
    "        h = SHA.new(message.encode('utf8'))\n",
    "        return binascii.hexlify(self._signer.sign(h)).decode('ascii')\n",
    "    \n",
    "    \n",
    "def verify_signature(wallet_address, message, signature):\n",
    "    \"\"\"\n",
    "    Check that the provided `signature` corresponds to `message`\n",
    "    signed by the wallet at `wallet_address`\n",
    "    \"\"\"\n",
    "    pubkey = RSA.importKey(binascii.unhexlify(wallet_address))\n",
    "    verifier = PKCS1_v1_5.new(pubkey)\n",
    "    h = SHA.new(message.encode('utf8'))\n",
    "    return verifier.verify(h, binascii.unhexlify(signature))\n",
    "\n",
    "\n",
    "# Check that the wallet signing functionality works\n",
    "w1 = Wallet()\n",
    "signature = w1.sign('foobar')\n",
    "assert verify_signature(w1.address, 'foobar', signature)\n",
    "assert not verify_signature(w1.address, 'rogue message', signature)"
   ]
  },
  {
   "cell_type": "markdown",
   "metadata": {},
   "source": [
    "# Doing transactions <a name=\"transactions\"></a>"
   ]
  },
  {
   "cell_type": "markdown",
   "metadata": {},
   "source": [
    "To exchange money between wallets, we'll use transcations. A transaction is composed of :\n",
    "- A spender, who will sign the transaction and who's spending his money\n",
    "- A number of inputs, which are other transactions' outputs. The recipient of all those should be the spender's wallet.\n",
    "  Otherwise you could spend other people's money.\n",
    "- A number of outputs, each of which specify an amount of money and a recipient\n",
    "\n",
    "Transactions can also contain a \"transaction fee\" which is an incentive for the miner to include the transaction in a block (more on that later). The fee is just the difference between the total input amount and the total output amount.\n",
    "\n",
    "\n",
    "Since all transactions need a parent, we also need a root in our hierarchy. This will be the *GenesisTransaction*."
   ]
  },
  {
   "cell_type": "code",
   "execution_count": 12,
   "metadata": {},
   "outputs": [],
   "source": [
    "class TransactionInput(object):\n",
    "    \"\"\"\n",
    "    An input for a transaction. This points to an output of another transaction\n",
    "    \"\"\"\n",
    "    def __init__(self, transaction, output_index):\n",
    "        self.transaction = transaction\n",
    "        self.output_index = output_index\n",
    "        assert 0 <= self.output_index < len(transaction.outputs)\n",
    "        \n",
    "    def to_dict(self):\n",
    "        d = {\n",
    "            'transaction': self.transaction.hash(),\n",
    "            'output_index': self.output_index\n",
    "        }\n",
    "        return d\n",
    "    \n",
    "    @property\n",
    "    def parent_output(self):\n",
    "        return self.transaction.outputs[self.output_index]\n",
    "    \n",
    "\n",
    "class TransactionOutput(object):\n",
    "    \"\"\"\n",
    "    An output for a transcation. This specifies an amount and a recipient (wallet)\n",
    "    \"\"\"\n",
    "    def __init__(self, recipient_address, amount):\n",
    "        self.recipient = recipient_address\n",
    "        self.amount = amount\n",
    "        \n",
    "    def to_dict(self):\n",
    "        d = {\n",
    "            'recipient_address': self.recipient,\n",
    "            'amount': self.amount\n",
    "        }\n",
    "        return d\n",
    "\n",
    "        \n",
    "def compute_fee(inputs, outputs):\n",
    "    \"\"\"\n",
    "    Compute the transaction fee by computing the difference between total input and total output\n",
    "    \"\"\"\n",
    "    total_in = sum(i.transaction.outputs[i.output_index].amount for i in inputs)\n",
    "    total_out = sum(o.amount for o in outputs)\n",
    "    assert total_out <= total_in, \"Invalid transaction with out(%f) > in(%f)\" % (total_out, total_in)\n",
    "    return total_in - total_out\n",
    "\n",
    "    \n",
    "class Transaction(object):\n",
    "    def __init__(self, wallet, inputs, outputs):\n",
    "        \"\"\"\n",
    "        Create a transaction spending money from the provided wallet\n",
    "        \"\"\"\n",
    "        self.inputs = inputs\n",
    "        self.outputs = outputs\n",
    "        self.fee = compute_fee(inputs, outputs)\n",
    "        self.signature = wallet.sign(json.dumps(self.to_dict(include_signature=False)))\n",
    "        \n",
    "    def to_dict(self, include_signature=True):\n",
    "        d = {\n",
    "            \"inputs\": list(map(TransactionInput.to_dict, self.inputs)),\n",
    "            \"outputs\": list(map(TransactionOutput.to_dict, self.outputs)),\n",
    "            \"fee\": self.fee\n",
    "        }\n",
    "        if include_signature:\n",
    "            d[\"signature\"] = self.signature\n",
    "        return d\n",
    "    \n",
    "    def hash(self):\n",
    "        return dumb_hash(json.dumps(self.to_dict()))\n",
    "    \n",
    "    \n",
    "class GenesisTransaction(Transaction):\n",
    "    \"\"\"\n",
    "    This is the first transaction which is a special transaction\n",
    "    with no input and 25 bitcoins output\n",
    "    \"\"\"\n",
    "    def __init__(self, recipient_address, amount=25):\n",
    "        self.inputs = []\n",
    "        self.outputs = [\n",
    "            TransactionOutput(recipient_address, amount)\n",
    "        ]\n",
    "        self.fee = 0\n",
    "        self.signature = 'genesis'\n",
    "        \n",
    "    def to_dict(self, include_signature=False):\n",
    "        # TODO: Instead, should sign genesis transaction will well-known public key ?\n",
    "        assert not include_signature, \"Cannot include signature of genesis transaction\"\n",
    "        return super().to_dict(include_signature=False)"
   ]
  },
  {
   "cell_type": "markdown",
   "metadata": {},
   "source": [
    "With the classes above, we can make transactions between alice and bob."
   ]
  },
  {
   "cell_type": "code",
   "execution_count": 13,
   "metadata": {},
   "outputs": [],
   "source": [
    "alice = Wallet()\n",
    "bob = Wallet()\n",
    "\n",
    "t1 = GenesisTransaction(alice.address)\n",
    "t2 = Transaction(\n",
    "    alice,\n",
    "    [TransactionInput(t1, 0)],\n",
    "    [TransactionOutput(bob.address, 2.0), TransactionOutput(alice.address, 22.0)]\n",
    ")\n",
    "assert np.abs(t2.fee - 1.0) < 1e-5"
   ]
  },
  {
   "cell_type": "markdown",
   "metadata": {},
   "source": [
    "In bitcoin, you never store how much you have in your wallet. Instead, you go through the whole chain of transactions to compute how much you have. Let's write a function to do that"
   ]
  },
  {
   "cell_type": "code",
   "execution_count": 14,
   "metadata": {},
   "outputs": [],
   "source": [
    "alice = Wallet()\n",
    "bob = Wallet()\n",
    "walter = Wallet()\n",
    "\n",
    "# This gives 25 coins to Alice\n",
    "t1 = GenesisTransaction(alice.address)\n",
    "\n",
    "# Of those 25, Alice will spend\n",
    "# Alice -- 5 --> Bob\n",
    "#       -- 15 --> Alice\n",
    "#       -- 5 --> Walter\n",
    "t2 = Transaction(\n",
    "    alice,\n",
    "    [TransactionInput(t1, 0)],\n",
    "    [TransactionOutput(bob.address, 5.0), TransactionOutput(alice.address, 15.0), TransactionOutput(walter.address, 5.0)]\n",
    ")\n",
    "\n",
    "# Walter -- 5 --> Bob\n",
    "t3 = Transaction(\n",
    "    walter,\n",
    "    [TransactionInput(t2, 2)],\n",
    "    [TransactionOutput(bob.address, 5.0)])\n",
    "\n",
    "# Bob -- 8 --> Walter\n",
    "#     -- 1 --> Bob\n",
    "#        1 fee\n",
    "t4 = Transaction(\n",
    "    bob,\n",
    "    [TransactionInput(t2, 0), TransactionInput(t3, 0)],\n",
    "    [TransactionOutput(walter.address, 8.0), TransactionOutput(bob.address, 1.0)]\n",
    ")\n",
    "\n",
    "transactions = [t1, t2, t3, t4]\n"
   ]
  },
  {
   "cell_type": "code",
   "execution_count": 15,
   "metadata": {},
   "outputs": [
    {
     "name": "stdout",
     "output_type": "stream",
     "text": [
      "Alice  has 15.00 dumbcoins\n",
      "Bob    has 1.00 dumbcoins\n",
      "Walter has 8.00 dumbcoins\n"
     ]
    }
   ],
   "source": [
    "def compute_balance(wallet_address, transactions):\n",
    "    \"\"\"\n",
    "    Given an address and a list of transactions, computes the wallet balance of the address\n",
    "    \"\"\"\n",
    "    balance = 0\n",
    "    for t in transactions:\n",
    "        # Subtract all the money that the address sent out\n",
    "        for txin in t.inputs:\n",
    "            if txin.parent_output.recipient == wallet_address:\n",
    "                balance -= txin.parent_output.amount\n",
    "        # Add all the money received by the address\n",
    "        for txout in t.outputs:\n",
    "            if txout.recipient == wallet_address:\n",
    "                balance += txout.amount\n",
    "    return balance\n",
    "\n",
    "print(\"Alice  has %.02f dumbcoins\" % compute_balance(alice.address, transactions))\n",
    "print(\"Bob    has %.02f dumbcoins\" % compute_balance(bob.address, transactions))\n",
    "print(\"Walter has %.02f dumbcoins\" % compute_balance(walter.address, transactions))"
   ]
  },
  {
   "cell_type": "markdown",
   "metadata": {},
   "source": [
    "We also want to be able to verify that a transaction is valid. This means :\n",
    "\n",
    "- You can only spend your money. This means checking that all inputs are owned by the transaction's owner\n",
    "- Ensure you don't spend more than you have. This is checked by the compute_fee function above"
   ]
  },
  {
   "cell_type": "code",
   "execution_count": 16,
   "metadata": {},
   "outputs": [],
   "source": [
    "def verify_transaction(transaction):\n",
    "    \"\"\"\n",
    "    Verify that the transaction is valid.\n",
    "    We need to verify two things :\n",
    "    - That all of the inputs of the transaction belong to the same wallet\n",
    "    - That the transaction is signed by the owner of said wallet\n",
    "    \"\"\"\n",
    "    tx_message = json.dumps(transaction.to_dict(include_signature=False))\n",
    "    if isinstance(transaction, GenesisTransaction):\n",
    "        # TODO: We should probably be more careful about validating genesis transactions\n",
    "        return True\n",
    "    \n",
    "    # Verify input transactions\n",
    "    for tx in transaction.inputs:\n",
    "        if not verify_transaction(tx.transaction):\n",
    "            logging.error(\"Invalid parent transaction\")\n",
    "            return False\n",
    "    \n",
    "    first_input_address = transaction.inputs[0].parent_output.recipient\n",
    "    for txin in transaction.inputs[1:]:\n",
    "        if txin.parent_output.recipient != first_input_address:\n",
    "            logging.error(\n",
    "                \"Transaction inputs belong to multiple wallets (%s and %s)\" %\n",
    "                (txin.parent_output.recipient, first_input_address)\n",
    "            )\n",
    "            return False\n",
    "    \n",
    "    if not verify_signature(first_input_address, tx_message, transaction.signature):\n",
    "        logging.error(\"Invalid transaction signature, trying to spend someone else's money ?\")\n",
    "        return False\n",
    "    \n",
    "    # Call compute_fee here to trigger an assert if output sum is great than input sum. Without this,\n",
    "    # a miner could put such an invalid transaction.\n",
    "    compute_fee(transaction.inputs, transaction.outputs)\n",
    "    \n",
    "    return True\n",
    "\n",
    "\n",
    "t1 = GenesisTransaction(alice.address)\n",
    "# This is an invalid transaction because bob is trying to spend alice's money\n",
    "# (alice was the recipient of the input - t1)\n",
    "t2 = Transaction(\n",
    "    bob,\n",
    "    [TransactionInput(t1, 0)],\n",
    "    [TransactionOutput(walter.address, 10.0)]\n",
    ")\n",
    "# This is valid, alice is spending her own money\n",
    "t3 = Transaction(\n",
    "    alice,\n",
    "    [TransactionInput(t1, 0)],\n",
    "    [TransactionOutput(walter.address, 10.0)]\n",
    ")"
   ]
  },
  {
   "cell_type": "code",
   "execution_count": 17,
   "metadata": {},
   "outputs": [],
   "source": [
    "assert verify_transaction(t1)"
   ]
  },
  {
   "cell_type": "code",
   "execution_count": 18,
   "metadata": {},
   "outputs": [
    {
     "name": "stderr",
     "output_type": "stream",
     "text": [
      "ERROR:root:Invalid transaction signature, trying to spend someone else's money ?\n"
     ]
    }
   ],
   "source": [
    "assert not verify_transaction(t2)"
   ]
  },
  {
   "cell_type": "code",
   "execution_count": 19,
   "metadata": {},
   "outputs": [],
   "source": [
    "assert verify_transaction(t3)"
   ]
  },
  {
   "cell_type": "markdown",
   "metadata": {},
   "source": [
    "# Putting transactions in blocks <a name=\"block\"></a>"
   ]
  },
  {
   "cell_type": "markdown",
   "metadata": {},
   "source": [
    "Now that we have :\n",
    "\n",
    "- A way to define a wallet (as a private/public key pair)\n",
    "- A way to create transactions between wallets\n",
    "- A way to verify transactions (by checking the signature matches\n",
    "\n",
    "What remains is to group transactions into blocks and have miners mine blocks. Mining a block consists of two parts :\n",
    "- Verifying the transactions in the block\n",
    "- Finding a nonce such that the block's hash starts with a number of 0\n",
    "\n",
    "Also, mining generates money by the convention that the first transaction in a block is a GenesisTransaction that gives 25 coins to whatever address the miner chose.\n",
    "In the same way, the miner can add transactions to redirect the fees from the transactions in the block to whatever address it chooses."
   ]
  },
  {
   "cell_type": "code",
   "execution_count": 20,
   "metadata": {},
   "outputs": [],
   "source": [
    "BLOCK_INCENTIVE = 25 # The number of coins miners get for mining a block\n",
    "DIFFICULTY = 2\n",
    "\n",
    "\n",
    "def compute_total_fee(transactions):\n",
    "    \"\"\"Return the total fee for the set of transactions\"\"\"\n",
    "    return sum(t.fee for t in transactions)\n",
    "\n",
    "\n",
    "class Block(object):\n",
    "    def __init__(self, transactions, ancestor, miner_address, skip_verif=False):\n",
    "        \"\"\"\n",
    "        Args:\n",
    "            transactions: The list of transactions to include in the block\n",
    "            ancestor: The previous block\n",
    "            miner_address: The address of the miner's wallet. This is where the block\n",
    "                           incentive and the transactions fees will be deposited\n",
    "        \"\"\"\n",
    "        reward = compute_total_fee(transactions) + BLOCK_INCENTIVE\n",
    "        self.transactions = [GenesisTransaction(miner_address, amount=reward)] + transactions\n",
    "        self.ancestor = ancestor\n",
    "        \n",
    "        if not skip_verif:\n",
    "            assert all(map(verify_transaction, transactions))\n",
    "        \n",
    "        json_block = json.dumps(self.to_dict(include_hash=False))\n",
    "        self.nonce, _ = mine(json_block, DIFFICULTY)\n",
    "        self.hash = dumb_hash(json_block + self.nonce)\n",
    "        \n",
    "    def fee(self):\n",
    "        \"\"\"Return transaction fee for this block\"\"\"\n",
    "        return compute_total_fee(self.transactions)\n",
    "    \n",
    "    def to_dict(self, include_hash=True):\n",
    "        d = {\n",
    "            \"transactions\": list(map(Transaction.to_dict, self.transactions)),\n",
    "            \"previous_block\": self.ancestor.hash,\n",
    "        }\n",
    "        if include_hash:\n",
    "            d[\"nonce\"] = self.nonce\n",
    "            d[\"hash\"] = self.hash\n",
    "        return d\n",
    "    \n",
    "    \n",
    "class GenesisBlock(Block):\n",
    "    \"\"\"\n",
    "    The genesis block is the first block in the chain.\n",
    "    It is the only block with no ancestor\n",
    "    \"\"\"\n",
    "    def __init__(self, miner_address):\n",
    "        super(GenesisBlock, self).__init__(transactions=[], ancestor=None, miner_address=miner_address)\n",
    "\n",
    "    def to_dict(self, include_hash=True):\n",
    "        d = {\n",
    "            \"transactions\": [],\n",
    "            \"genesis_block\": True,\n",
    "        }\n",
    "        if include_hash:\n",
    "            d[\"nonce\"] = self.nonce\n",
    "            d[\"hash\"] = self.hash\n",
    "        return d"
   ]
  },
  {
   "cell_type": "markdown",
   "metadata": {},
   "source": [
    "Similarly to how we verify transactions, we also need a way to verify blocks :"
   ]
  },
  {
   "cell_type": "code",
   "execution_count": 21,
   "metadata": {
    "collapsed": true
   },
   "outputs": [],
   "source": [
    "def verify_block(block, genesis_block, used_outputs=None):\n",
    "    \"\"\"\n",
    "    Verifies that a block is valid :\n",
    "    - Verifies the hash starts with the required amount of zeroes\n",
    "    - Verifies that the same transaction output isn't used twice\n",
    "    - Verifies all transactions are valid\n",
    "    - Verifies the first transaction in the block is a genesis transaction with BLOCK_INCENTIVE + total_fee\n",
    "    \n",
    "    Args:\n",
    "        block: The block to validate\n",
    "        genesis_block: The genesis block (this needs to be shared by everybody. E.g. hardcoded somewhere)\n",
    "        used_outputs: list of outputs used in transactions for all blocks above this one\n",
    "    \"\"\"\n",
    "    if used_outputs is None:\n",
    "        used_outputs = set()\n",
    "    \n",
    "    # Verify hash\n",
    "    prefix = '1' * DIFFICULTY\n",
    "    if not block.hash.startswith(prefix):\n",
    "        logging.error(\"Block hash (%s) doesn't start with prefix %s\" % (block.hash, prefix))\n",
    "        return False\n",
    "    if not all(map(verify_transaction, block.transactions)):\n",
    "        return False\n",
    "    \n",
    "    # Verify that transactions in this block don't use already spent outputs\n",
    "    #\n",
    "    # Note that we could move this in verify_transaction, but this would require some passing the used_outputs\n",
    "    # around more. So we do it here for simplicity\n",
    "    for transaction in block.transactions:\n",
    "        for i in transaction.inputs:\n",
    "            if i.parent_output in used_outputs:\n",
    "                logging.error(\"Transaction uses an already spent output : %s\" % json.dumps(i.parent_output.to_dict()))\n",
    "                return False\n",
    "            used_outputs.add(i.parent_output)\n",
    "    \n",
    "    # Verify ancestors up to the genesis block\n",
    "    if not (block.hash == genesis_block.hash):\n",
    "        if not verify_block(block.ancestor, genesis_block, used_outputs):\n",
    "            logging.error(\"Failed to validate ancestor block\")\n",
    "            return False\n",
    "    \n",
    "    # Verify the first transaction is the miner's reward\n",
    "    tx0 = block.transactions[0]\n",
    "    if not isinstance(tx0, GenesisTransaction):\n",
    "        logging.error(\"Transaction 0 is not a GenesisTransaction\")\n",
    "        return False\n",
    "    if not len(tx0.outputs) == 1:\n",
    "        logging.error(\"Transactions 0 doesn't have exactly 1 output\")\n",
    "        return False\n",
    "    reward = compute_total_fee(block.transactions[1:]) + BLOCK_INCENTIVE\n",
    "    if not tx0.outputs[0].amount == reward:\n",
    "        logging.error(\"Invalid amount in transaction 0 : %d, expected %d\" % (tx0.outputs[0].amount, reward))\n",
    "        return False\n",
    "    \n",
    "    # Only the first transaction shall be a genesis\n",
    "    for i, tx in enumerate(block.transactions):\n",
    "        if i == 0:\n",
    "            if not isinstance(tx, GenesisTransaction):\n",
    "                logging.error(\"Non-genesis transaction at index 0\")\n",
    "                return False  \n",
    "        elif isinstance(tx, GenesisTransaction):\n",
    "            logging.error(\"GenesisTransaction (hash=%s) at index %d != 0\", tx.hash(), i)\n",
    "            return False\n",
    "    return True"
   ]
  },
  {
   "cell_type": "code",
   "execution_count": 22,
   "metadata": {},
   "outputs": [
    {
     "name": "stdout",
     "output_type": "stream",
     "text": [
      "genesis_block : 1162dce8ffec3acf13ce61109f121922eee8cceeea4784aa9d90dc6ec0e0fa92 with fee=0\n",
      "block1        : 11af277c02c22a7e3c3a73102282ca5a0e01869b1d852527b6a842f0786ee8e3 with fee=0.0\n",
      "block2        : 119e461d393b793478c7c7cb9fa6feb54fca35865a398d017e541027a78a2e9a with fee=1.0\n"
     ]
    }
   ],
   "source": [
    "alice = Wallet()\n",
    "bob = Wallet()\n",
    "walter = Wallet()\n",
    "\n",
    "genesis_block = GenesisBlock(miner_address=alice.address)\n",
    "print(\"genesis_block : \" + genesis_block.hash + \" with fee=\" + str(genesis_block.fee()))\n",
    "\n",
    "t1 = genesis_block.transactions[0]\n",
    "t2 = Transaction(\n",
    "    alice,\n",
    "    [TransactionInput(t1, 0)],\n",
    "    [TransactionOutput(bob.address, 5.0), TransactionOutput(alice.address, 15.0), TransactionOutput(walter.address, 5.0)]\n",
    ")\n",
    "t3 = Transaction(\n",
    "    walter,\n",
    "    [TransactionInput(t2, 2)],\n",
    "    [TransactionOutput(bob.address, 5.0)])\n",
    "\n",
    "t4 = Transaction(\n",
    "    bob,\n",
    "    [TransactionInput(t2, 0), TransactionInput(t3, 0)],\n",
    "    [TransactionOutput(walter.address, 8.0), TransactionOutput(bob.address, 1.0)]\n",
    ")\n",
    "\n",
    "block1 = Block([t2], ancestor=genesis_block, miner_address=walter.address)\n",
    "print(\"block1        : \" + block1.hash + \" with fee=\" + str(block1.fee()))\n",
    "\n",
    "block2 = Block([t3, t4], ancestor=block1, miner_address=walter.address)\n",
    "print(\"block2        : \" + block2.hash + \" with fee=\" + str(block2.fee()))"
   ]
  },
  {
   "cell_type": "code",
   "execution_count": 23,
   "metadata": {},
   "outputs": [
    {
     "data": {
      "text/plain": [
       "True"
      ]
     },
     "execution_count": 23,
     "metadata": {},
     "output_type": "execute_result"
    }
   ],
   "source": [
    "verify_block(block1, genesis_block)\n",
    "verify_block(block2, genesis_block)"
   ]
  },
  {
   "cell_type": "code",
   "execution_count": 24,
   "metadata": {},
   "outputs": [
    {
     "name": "stdout",
     "output_type": "stream",
     "text": [
      "Alice  has 15.00 dumbcoins\n",
      "Bob    has 1.00 dumbcoins\n",
      "Walter has 59.00 dumbcoins\n"
     ]
    }
   ],
   "source": [
    "def collect_transactions(block, genesis_block):\n",
    "    \"\"\"Recursively collect transactions in `block` and all of its ancestors\"\"\"\n",
    "    # Important : COPY block.transactions\n",
    "    transactions = [] + block.transactions\n",
    "    if block.hash != genesis_block.hash:\n",
    "        transactions += collect_transactions(block.ancestor, genesis_block)\n",
    "    return transactions\n",
    "\n",
    "transactions = collect_transactions(block2, genesis_block)\n",
    "\n",
    "# Alice mined 25 (from the genesis block) and gave 5 to bob and 5 to walter\n",
    "print(\"Alice  has %.02f dumbcoins\" % compute_balance(alice.address, transactions))\n",
    "# Bob received 5 from alice and 5 from walter, but then back 8 to walter with a transaction fee of 1\n",
    "print(\"Bob    has %.02f dumbcoins\" % compute_balance(bob.address, transactions))\n",
    "# Walter mined 2 blocks (2 * 25), received 8 from bob and go a transaction fee of 1 on block2\n",
    "print(\"Walter has %.02f dumbcoins\" % compute_balance(walter.address, transactions))"
   ]
  },
  {
   "cell_type": "markdown",
   "metadata": {},
   "source": [
    "# Some attacks <a name=\"attacks\"></a>"
   ]
  },
  {
   "cell_type": "markdown",
   "metadata": {},
   "source": [
    "Now, if our miner (walter) tries to spend bob's money, his block won't verify :"
   ]
  },
  {
   "cell_type": "code",
   "execution_count": 25,
   "metadata": {},
   "outputs": [
    {
     "name": "stderr",
     "output_type": "stream",
     "text": [
      "ERROR:root:Invalid transaction signature, trying to spend someone else's money ?\n"
     ]
    }
   ],
   "source": [
    "tx = Transaction(\n",
    "    walter,\n",
    "    [TransactionInput(t4, 1)],\n",
    "    [TransactionOutput(walter.address, 1.0)],\n",
    ")\n",
    "\n",
    "# Note that we have to use skip_verif=True to not trigger the assert in Block's constructor\n",
    "block = Block([tx], ancestor=block2, miner_address=walter.address, skip_verif=True)\n",
    "assert not verify_block(block, genesis_block)"
   ]
  },
  {
   "cell_type": "markdown",
   "metadata": {},
   "source": [
    "Another possible attack would be for the miner to modify a transaction it include in its block. Again, this won't work"
   ]
  },
  {
   "cell_type": "code",
   "execution_count": 26,
   "metadata": {},
   "outputs": [
    {
     "name": "stderr",
     "output_type": "stream",
     "text": [
      "ERROR:root:Invalid transaction signature, trying to spend someone else's money ?\n"
     ]
    }
   ],
   "source": [
    "# This is a transaction signed by bob\n",
    "tx = Transaction(\n",
    "    bob,\n",
    "    [TransactionInput(t2, 0), TransactionInput(t3, 0)],\n",
    "    [TransactionOutput(walter.address, 8.0), TransactionOutput(bob.address, 1.0)]\n",
    ")\n",
    "# And modified by the miner\n",
    "tx.outputs[0].amount += 4\n",
    "block = Block([t3, tx], ancestor=block1, miner_address=walter.address, skip_verif=True)\n",
    "assert not verify_block(block, genesis_block)"
   ]
  },
  {
   "cell_type": "markdown",
   "metadata": {},
   "source": [
    "A signed transaction could also be duplicated, increasing the total coins in circulation."
   ]
  },
  {
   "cell_type": "code",
   "execution_count": 27,
   "metadata": {},
   "outputs": [
    {
     "name": "stderr",
     "output_type": "stream",
     "text": [
      "ERROR:root:Transaction uses an already spent output : {\"recipient_address\": \"30819f300d06092a864886f70d010101050003818d0030818902818100aec88246cc7e63c404c083b34ce153bdcf25749ec8d8764df14c0940ec795ce7522c9923e7aad577f60d346939e6c6aff45c432c6644cef675efb336fc24bdbb966d1448521537390b502c5677251e40c4a0d7b8ec9be732c21b9fe7bac7dc0f8551677645a6b89a8a39ac581fc2d440867f46994d1a52d1ddc1a22f67740f3f0203010001\", \"amount\": 5.0}\n"
     ]
    }
   ],
   "source": [
    "block = Block([t3, t3, t4], ancestor=block1, miner_address=bob.address, skip_verif=True)\n",
    "assert not verify_block(block, genesis_block)"
   ]
  },
  {
   "cell_type": "markdown",
   "metadata": {},
   "source": [
    "# Majority attack <a name=\"majority_attack\"></a>"
   ]
  },
  {
   "cell_type": "markdown",
   "metadata": {},
   "source": [
    "The tools built up so-far ensure that the ledger is self-consistent: money is spent by addresses which own that money. However, a flaw remains: given that there isn't a central copy of the ledger, which is to be trusted ? The rule is that you trust the **longest chain**. Let's see what are the limits of this rule."
   ]
  },
  {
   "cell_type": "code",
   "execution_count": 28,
   "metadata": {
    "collapsed": true
   },
   "outputs": [],
   "source": [
    "# Let's start again with the same example transactions and blocks as above\n",
    "alice = Wallet()\n",
    "bob = Wallet()\n",
    "walter = Wallet()\n",
    "\n",
    "genesis_block = GenesisBlock(miner_address=alice.address)\n",
    "\n",
    "t1 = genesis_block.transactions[0]\n",
    "t2 = Transaction(\n",
    "    alice,\n",
    "    [TransactionInput(t1, 0)],\n",
    "    [TransactionOutput(bob.address, 5.0), TransactionOutput(alice.address, 15.0), TransactionOutput(walter.address, 5.0)]\n",
    ")\n",
    "t3 = Transaction(\n",
    "    walter,\n",
    "    [TransactionInput(t2, 2)],\n",
    "    [TransactionOutput(bob.address, 5.0)])\n",
    "\n",
    "t4 = Transaction(\n",
    "    bob,\n",
    "    [TransactionInput(t2, 0), TransactionInput(t3, 0)],\n",
    "    [TransactionOutput(walter.address, 8.0), TransactionOutput(bob.address, 1.0)]\n",
    ")\n",
    "\n",
    "block1 = Block([t2], ancestor=genesis_block, miner_address=walter.address)\n",
    "block2 = Block([t3, t4], ancestor=block1, miner_address=walter.address)"
   ]
  },
  {
   "cell_type": "markdown",
   "metadata": {},
   "source": [
    "So with t4 above, bob sent 8 coins to walter. Let's assume walter is a merchant and he sold bob a nice car in exchange of those 8 coins. Bob now has a car and walter has 8 coins."
   ]
  },
  {
   "cell_type": "markdown",
   "metadata": {},
   "source": [
    "Bob is feeling a bit poor and decides he'd rather not have spent those 8 coins in `block2`. He re-writes history a bit, putting a transaction to himself and mines his own block."
   ]
  },
  {
   "cell_type": "code",
   "execution_count": 29,
   "metadata": {},
   "outputs": [
    {
     "name": "stdout",
     "output_type": "stream",
     "text": [
      "True\n"
     ]
    }
   ],
   "source": [
    "t4 = None\n",
    "block2_malicious = Block([t3], ancestor=block1, miner_address=bob.address)\n",
    "print(verify_block(block2_malicious, genesis_block))"
   ]
  },
  {
   "cell_type": "markdown",
   "metadata": {},
   "source": [
    "The `block2_malicious` isn't yet accepted by the network as it hasn't surpassed the longest ledger (`block2`)."
   ]
  },
  {
   "cell_type": "code",
   "execution_count": 30,
   "metadata": {},
   "outputs": [],
   "source": [
    "block3_malicious = Block([t6], ancestor=block2_malicious, miner_address=bob.address)"
   ]
  },
  {
   "cell_type": "markdown",
   "metadata": {},
   "source": [
    "The accepted ledger is now `block3_malicious`, as it is the longest ledger. Bob has successfully re-written the ledger.\n",
    "\n",
    "In practice, however, Walter had a head start on computing `block3 = Block([t6], ancestor=block2, miner_address=walter.address)`, and that `block3` would be accepted by the network. Bob would either have to be very lucky and find the correct nonce very quickly, or would have to keep mining blocks slightly faster than Walter to eventually create a longer ledger which incorporates his modified history."
   ]
  },
  {
   "cell_type": "markdown",
   "metadata": {},
   "source": [
    "# Main differences with Bitcoin <a name=\"differences\"></a>\n",
    "\n",
    "As explained above, the goal is not to have a conformant Bitcoin implementation and therefore many things are not implemented. The most important are :\n",
    "\n",
    "- This uses the wallet public key as its address. Bitcoin uses [more complicated addresses](https://en.bitcoin.it/wiki/Technical_background_of_version_1_Bitcoin_addresses)\n",
    "- Bitcoin uses ECDSA for signature, this uses RSA.\n",
    "- Bitcoin uses two rounds of SHA256, this uses one\n",
    "- Bitcoin transactions use a [scripting language](https://en.bitcoin.it/wiki/Script). Here we just have\n",
    "  simple transactions with one amount per output\n",
    "- Bitcoin requires a way to broadcast blocks to all the nodes. The whole communication part is left out from this    notebook.\n",
    "  See the [Client Node Discovery](https://en.bitcoin.it/wiki/Satoshi_Client_Node_Discovery) and [Protocol documentation](https://en.bitcoin.it/wiki/Protocol_documentation) pages on the bitcoin wiki\n",
    "- Bitcoin uses a [Merkle tree](https://en.wikipedia.org/wiki/Merkle_tree) to save disk space by pruning spent   \n",
    "  transactions.\n",
    "  \n",
    "Thanks to HN users *westurner*, *vinn124*, *ivan_ah* and *magnat* for helping me figure out the main differences.\n",
    "\n",
    "## Security issues\n",
    "\n",
    "In addition to the differences above, there are a number of security issues with this implementation (pointed out by HN user *magnat*) :\n",
    "- Use of floating point arithmetic can lead to many problems (e.g. loss of precisions).\n",
    "- The JSON serialization as implemented here is not reproducible across platforms. For example, two serialization of\n",
    "  the same transaction on two different platforms could produce two different JSON (line endings, keys ordering,   spaces).\n",
    "- The mine method implemented here can loop forever due to integer overflow."
   ]
  },
  {
   "cell_type": "code",
   "execution_count": null,
   "metadata": {},
   "outputs": [],
   "source": []
  }
 ],
 "metadata": {
  "kernelspec": {
   "display_name": "Python 3",
   "language": "python",
   "name": "python3"
  },
  "language_info": {
   "codemirror_mode": {
    "name": "ipython",
    "version": 3
   },
   "file_extension": ".py",
   "mimetype": "text/x-python",
   "name": "python",
   "nbconvert_exporter": "python",
   "pygments_lexer": "ipython3",
   "version": "3.5.2"
  }
 },
 "nbformat": 4,
 "nbformat_minor": 1
}
